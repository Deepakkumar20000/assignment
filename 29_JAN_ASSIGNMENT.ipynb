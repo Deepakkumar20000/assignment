{
 "cells": [
  {
   "cell_type": "code",
   "execution_count": 1,
   "id": "70769c12-dccd-4ba3-b965-d04703696618",
   "metadata": {},
   "outputs": [],
   "source": [
    "#ANS1. Guido van Rossum  in 1991 design python language "
   ]
  },
  {
   "cell_type": "code",
   "execution_count": 1,
   "id": "1a88c85b-cd2e-447d-b15f-330dc559a5ce",
   "metadata": {},
   "outputs": [],
   "source": [
    "#ANS2. Python Support three programing paradigms Imperative , Functional,& Object oreiented"
   ]
  },
  {
   "cell_type": "code",
   "execution_count": 2,
   "id": "c9417442-883b-4f1e-9173-4812c8acdfb0",
   "metadata": {},
   "outputs": [],
   "source": [
    "#ANS3. Yes Python is a case sensitive programming language "
   ]
  },
  {
   "cell_type": "code",
   "execution_count": 3,
   "id": "f158301a-1f0e-43a9-8ec4-909740b52721",
   "metadata": {},
   "outputs": [],
   "source": [
    "#ANS4. Python is a universal computer programming language that is used for software development and web application development. But do you know what is the extension of Python file? Fret not! We have that covered. Python file extensions are mentioned below:\n",
    "\n",
    "#.py\n",
    "#.pyi\n",
    "#.pyc\n",
    "#.pyd\n",
    "#.pyo\n",
    "#.pyw\n",
    "#.pyz"
   ]
  },
  {
   "cell_type": "code",
   "execution_count": 1,
   "id": "2c0f73dc-c078-4e46-82d1-56beff3ddd38",
   "metadata": {},
   "outputs": [],
   "source": [
    "#ANS5.In various books of python programming, it is mentioned that python language is interpreted. But that is half correct the python program is first compiled and then interpreted. The compilation part is hidden from the programmer thus, many programmers believe that it is an interpreted language. The compilation part is done first when we execute our code and this will generate byte code and internally this byte code gets converted by the python virtual machine(p.v.m) according to the underlying platform(machine+operating system)"
   ]
  },
  {
   "cell_type": "code",
   "execution_count": 2,
   "id": "e58cece9-a9ff-4e57-9640-56f8ade72bce",
   "metadata": {},
   "outputs": [],
   "source": [
    "#ANS6.The following are blocks: a module, a function body, and a class definition. Each command typed interactively is a block. A script file (a file given as standard input to the interpreter or specified as a command line argument to the interpreter) is a code block."
   ]
  },
  {
   "cell_type": "code",
   "execution_count": 3,
   "id": "87184c76-8e48-4fb9-9594-b8976595f7fa",
   "metadata": {},
   "outputs": [],
   "source": [
    "#ANS7.Python offers a pretty simple and straightforward way to write a comment. We can write a single-line comment by adding a single # character before any statement or line of code"
   ]
  },
  {
   "cell_type": "code",
   "execution_count": 4,
   "id": "b8f5e97d-3249-40f3-ac5b-452562f99b71",
   "metadata": {},
   "outputs": [],
   "source": [
    "#ANS8. The function sys. version can help us to find the version of python that we are currently working on. It also contains information on the build number and compiler used."
   ]
  },
  {
   "cell_type": "code",
   "execution_count": 7,
   "id": "4d697a26-3c5a-49b8-8881-974487bce33b",
   "metadata": {},
   "outputs": [],
   "source": [
    "#ANS9.Python supports the creation of anonymous functions  at runtime, using a construct called lambda."
   ]
  },
  {
   "cell_type": "code",
   "execution_count": 8,
   "id": "8dc70508-2adb-4717-b342-fa56b7a77b20",
   "metadata": {},
   "outputs": [],
   "source": [
    "#ANS10. PIP = PREINSTALLED PYTHON"
   ]
  },
  {
   "cell_type": "code",
   "execution_count": 9,
   "id": "f4d796ed-0f5b-40bb-a6d4-6d3b36eae717",
   "metadata": {},
   "outputs": [],
   "source": [
    "#ANS11. BUILT IN FUNCTION IN PYTHON ARE type() list() dict() len() .count .append"
   ]
  },
  {
   "cell_type": "code",
   "execution_count": null,
   "id": "792d623b-1a9e-41d2-92bc-a8ada534ff92",
   "metadata": {},
   "outputs": [],
   "source": [
    "#ANS12. In Python, the highest possible length of an identifier is 79 characters."
   ]
  },
  {
   "cell_type": "code",
   "execution_count": 1,
   "id": "b13a0700-e67e-4f3a-80e9-b440e98b2156",
   "metadata": {},
   "outputs": [],
   "source": [
    "#ANS13.Advantage\n",
    "#a)Third-Party Modules\n",
    "#b)Presence of Libraries\n",
    "#c)Open Source and free\n",
    "#d) Easy to learn\n",
    "#e) User-Friendly data structures\n"
   ]
  },
  {
   "cell_type": "code",
   "execution_count": 2,
   "id": "37600313-2204-4da1-8ba7-bfa31f782326",
   "metadata": {},
   "outputs": [],
   "source": [
    "#ANS14.  Python uses the dynamic memory allocation which is managed by the Heap data structure. Memory Heap holds the objects and other data structures that will be used in the program. Python memory manager manages the allocation or de-allocation of the heap memory space through the API functions."
   ]
  },
  {
   "cell_type": "code",
   "execution_count": null,
   "id": "9d57ac56-c5c9-428b-84f7-486dbeed349f",
   "metadata": {},
   "outputs": [],
   "source": [
    "#ANS15. ight-clicking This PC and going to Properties.\n",
    "\n",
    "#Clicking on the Advanced system settings in the menu on the left.\n",
    "\n",
    "#Clicking on the Environment Variables button o​n the bottom right.\n",
    "\n",
    "#In the System variables section, selecting the Path variable and clicking on Edit. The next screen will show all the directories that are currently a part of the PATH variable.\n",
    "\n",
    "#Clicking on New and entering Python’s install directory."
   ]
  }
 ],
 "metadata": {
  "kernelspec": {
   "display_name": "Python 3 (ipykernel)",
   "language": "python",
   "name": "python3"
  },
  "language_info": {
   "codemirror_mode": {
    "name": "ipython",
    "version": 3
   },
   "file_extension": ".py",
   "mimetype": "text/x-python",
   "name": "python",
   "nbconvert_exporter": "python",
   "pygments_lexer": "ipython3",
   "version": "3.10.8"
  }
 },
 "nbformat": 4,
 "nbformat_minor": 5
}
