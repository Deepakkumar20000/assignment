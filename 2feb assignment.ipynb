{
 "cells": [
  {
   "cell_type": "code",
   "execution_count": 23,
   "id": "3dff020f-db97-453c-b7d2-4832d80e84c3",
   "metadata": {},
   "outputs": [
    {
     "name": "stdout",
     "output_type": "stream",
     "text": [
      "0\n",
      "1\n",
      "2\n",
      "3\n",
      "4\n",
      "5\n",
      "6\n",
      "7\n",
      "8\n",
      "9\n"
     ]
    },
    {
     "data": {
      "text/plain": [
       "10"
      ]
     },
     "execution_count": 23,
     "metadata": {},
     "output_type": "execute_result"
    }
   ],
   "source": [
    "#ans1 both the loops can used for same result the difference is while loop first take condition and we have to give the limit for example\n",
    "a= 0\n",
    "for i in  range(10):\n",
    "    print(a)\n",
    "    a = a+ 1\n",
    "a"
   ]
  },
  {
   "cell_type": "code",
   "execution_count": 26,
   "id": "a088acf0-437f-422f-9e7b-8ad63e96a2eb",
   "metadata": {},
   "outputs": [
    {
     "data": {
      "text/plain": [
       "10"
      ]
     },
     "execution_count": 26,
     "metadata": {},
     "output_type": "execute_result"
    }
   ],
   "source": [
    "#example of while\n",
    "while a<10:\n",
    "    a= a + 1\n",
    "a"
   ]
  },
  {
   "cell_type": "markdown",
   "id": "1fe94a9b-8597-4c84-a49f-a7f3b15f832b",
   "metadata": {},
   "source": [
    "#Ans2. "
   ]
  },
  {
   "cell_type": "code",
   "execution_count": 3,
   "id": "707a34a1-8dd1-42cf-a821-b0448ccc8949",
   "metadata": {},
   "outputs": [
    {
     "name": "stdout",
     "output_type": "stream",
     "text": [
      "1\n",
      "2\n",
      "3\n",
      "4\n",
      "5\n",
      "6\n",
      "7\n",
      "8\n",
      "9\n",
      "10\n"
     ]
    },
    {
     "data": {
      "text/plain": [
       "55"
      ]
     },
     "execution_count": 3,
     "metadata": {},
     "output_type": "execute_result"
    }
   ],
   "source": [
    "# sum by for loop \n",
    "a=0\n",
    "b=1\n",
    "for i in range(10):\n",
    "    print(b)\n",
    "    a= a+b\n",
    "    b= b+1\n",
    "a\n",
    "# 55 is sum by printing a"
   ]
  },
  {
   "cell_type": "code",
   "execution_count": 4,
   "id": "20bf03db-f76a-411b-8cbc-b8928834bc4f",
   "metadata": {},
   "outputs": [
    {
     "name": "stdout",
     "output_type": "stream",
     "text": [
      "1\n",
      "2\n",
      "3\n",
      "4\n",
      "5\n",
      "6\n",
      "7\n",
      "8\n",
      "9\n",
      "10\n"
     ]
    },
    {
     "data": {
      "text/plain": [
       "3628800"
      ]
     },
     "execution_count": 4,
     "metadata": {},
     "output_type": "execute_result"
    }
   ],
   "source": [
    "# product by for loop \n",
    "b=1 \n",
    "a=1\n",
    "for i in range(10):\n",
    "    print(b)\n",
    "    a= a*b\n",
    "    b= b+1\n",
    "a\n",
    "# 3628800 is a product by printing a"
   ]
  },
  {
   "cell_type": "code",
   "execution_count": 5,
   "id": "50e8b6aa-0bd6-4d6f-8f7a-4e384e92f708",
   "metadata": {},
   "outputs": [
    {
     "name": "stdout",
     "output_type": "stream",
     "text": [
      "1\n",
      "2\n",
      "3\n",
      "4\n",
      "5\n",
      "6\n",
      "7\n",
      "8\n",
      "9\n",
      "10\n"
     ]
    },
    {
     "data": {
      "text/plain": [
       "55"
      ]
     },
     "execution_count": 5,
     "metadata": {},
     "output_type": "execute_result"
    }
   ],
   "source": [
    "# sum by while loop \n",
    "a= 0\n",
    "b =1\n",
    "while b<=10:\n",
    "    print(b)\n",
    "    a= a+b\n",
    "    b=b+1\n",
    "a"
   ]
  },
  {
   "cell_type": "code",
   "execution_count": 6,
   "id": "8cff10fc-762f-4185-9d08-05cd9becd1c3",
   "metadata": {},
   "outputs": [
    {
     "name": "stdout",
     "output_type": "stream",
     "text": [
      "1\n",
      "2\n",
      "3\n",
      "4\n",
      "5\n",
      "6\n",
      "7\n",
      "8\n",
      "9\n",
      "10\n"
     ]
    },
    {
     "data": {
      "text/plain": [
       "3628800"
      ]
     },
     "execution_count": 6,
     "metadata": {},
     "output_type": "execute_result"
    }
   ],
   "source": [
    "# product by while loop \n",
    "a= 1\n",
    "b =1\n",
    "while b<=10:\n",
    "    print(b)\n",
    "    a= a*b\n",
    "    b=b+1\n",
    "a"
   ]
  },
  {
   "cell_type": "markdown",
   "id": "2fc37b1a-680b-4f67-a88e-d750b8d5123e",
   "metadata": {},
   "source": [
    "Ans 3\n"
   ]
  },
  {
   "cell_type": "code",
   "execution_count": 7,
   "id": "7b3af2b6-97f8-4195-b65b-2d5a48b7f383",
   "metadata": {},
   "outputs": [
    {
     "name": "stdin",
     "output_type": "stream",
     "text": [
      "enter a bill amount 310\n"
     ]
    },
    {
     "data": {
      "text/plain": [
       "2250.0"
      ]
     },
     "execution_count": 7,
     "metadata": {},
     "output_type": "execute_result"
    }
   ],
   "source": [
    "#ans3\n",
    "n= int(input(\"enter a bill amount\"))\n",
    "if n<=100:\n",
    "    a=n*4.5\n",
    "elif n>100 and n<=200:\n",
    "    a=100*4.5+( n-100)*6\n",
    "elif n>200 and n<=300:\n",
    "    a = 100*4.5 + 100*6+(n-200)*10\n",
    "else:\n",
    "    a=100*4.5 + 100*6 + 100*10+(n-300)*20\n",
    "a"
   ]
  },
  {
   "cell_type": "markdown",
   "id": "1d283a92-dec8-44a8-83dd-1adcf61f232f",
   "metadata": {},
   "source": [
    "Ans 4"
   ]
  },
  {
   "cell_type": "code",
   "execution_count": 8,
   "id": "4b9d6ee7-1025-499d-b780-59e1a506d5a7",
   "metadata": {},
   "outputs": [
    {
     "data": {
      "text/plain": [
       "[8,\n",
       " 64,\n",
       " 125,\n",
       " 216,\n",
       " 512,\n",
       " 1000,\n",
       " 1728,\n",
       " 2744,\n",
       " 3375,\n",
       " 4096,\n",
       " 5832,\n",
       " 8000,\n",
       " 10648,\n",
       " 13824,\n",
       " 15625,\n",
       " 17576,\n",
       " 21952,\n",
       " 27000,\n",
       " 32768,\n",
       " 39304,\n",
       " 42875,\n",
       " 46656,\n",
       " 54872,\n",
       " 64000,\n",
       " 74088,\n",
       " 85184,\n",
       " 91125,\n",
       " 97336,\n",
       " 110592,\n",
       " 125000,\n",
       " 140608,\n",
       " 157464,\n",
       " 166375,\n",
       " 175616,\n",
       " 195112,\n",
       " 216000,\n",
       " 238328,\n",
       " 262144,\n",
       " 274625,\n",
       " 287496,\n",
       " 314432,\n",
       " 343000,\n",
       " 373248,\n",
       " 405224,\n",
       " 421875,\n",
       " 438976,\n",
       " 474552,\n",
       " 512000,\n",
       " 551368,\n",
       " 592704,\n",
       " 614125,\n",
       " 636056,\n",
       " 681472,\n",
       " 729000,\n",
       " 778688,\n",
       " 830584,\n",
       " 857375,\n",
       " 884736,\n",
       " 941192,\n",
       " 1000000]"
      ]
     },
     "execution_count": 8,
     "metadata": {},
     "output_type": "execute_result"
    }
   ],
   "source": [
    "#ans 4\n",
    "l=[]\n",
    "a=1\n",
    "for i in range(100):\n",
    "    l.append(a)\n",
    "    a=a+1\n",
    "l2=[]\n",
    "p=int()\n",
    "for a in l:\n",
    "    a= a**3\n",
    "    l2.append(a)\n",
    "l3=[]\n",
    "for b in l2:\n",
    "    if b%4==0:\n",
    "        l3.append(b)\n",
    "    elif b%5==0:\n",
    "        l3.append(b)\n",
    "l3"
   ]
  },
  {
   "cell_type": "markdown",
   "id": "a1b31d61-044e-477e-b87d-fe21dfe754ae",
   "metadata": {},
   "source": [
    "Ans 5"
   ]
  },
  {
   "cell_type": "code",
   "execution_count": 9,
   "id": "804ce655-19fd-44e4-a93a-5f1377940c73",
   "metadata": {},
   "outputs": [
    {
     "name": "stdout",
     "output_type": "stream",
     "text": [
      "12\n"
     ]
    }
   ],
   "source": [
    "count = 0\n",
    "string = \"I want to become a data scientist\"\n",
    "for j in string:\n",
    "    if j == \"a\" or j == \"e\" or j == \"i\" or j == \"o\" or j == \"u\" or j == \"A\" or j == \"E\" or j == \"I\" or j == \"O\" or j == \"U\":\n",
    "        count =count +1\n",
    "print(count)"
   ]
  },
  {
   "cell_type": "code",
   "execution_count": null,
   "id": "d191d90c-1019-4e1c-b67e-5cd92253ae4e",
   "metadata": {},
   "outputs": [],
   "source": []
  },
  {
   "cell_type": "code",
   "execution_count": null,
   "id": "75005a74-3edc-41df-a1b2-e63235ceefb5",
   "metadata": {},
   "outputs": [],
   "source": []
  },
  {
   "cell_type": "code",
   "execution_count": null,
   "id": "0e411876-903c-4b6b-8329-9421593c5468",
   "metadata": {},
   "outputs": [],
   "source": []
  }
 ],
 "metadata": {
  "kernelspec": {
   "display_name": "Python 3 (ipykernel)",
   "language": "python",
   "name": "python3"
  },
  "language_info": {
   "codemirror_mode": {
    "name": "ipython",
    "version": 3
   },
   "file_extension": ".py",
   "mimetype": "text/x-python",
   "name": "python",
   "nbconvert_exporter": "python",
   "pygments_lexer": "ipython3",
   "version": "3.10.8"
  }
 },
 "nbformat": 4,
 "nbformat_minor": 5
}
