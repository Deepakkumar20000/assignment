{
 "cells": [
  {
   "cell_type": "code",
   "execution_count": 1,
   "id": "335713a6-c600-470c-b593-ef12527256ad",
   "metadata": {},
   "outputs": [],
   "source": [
    "import pandas as pd"
   ]
  },
  {
   "cell_type": "markdown",
   "id": "ef1c708c-c071-47c1-b677-fbec50444542",
   "metadata": {},
   "source": [
    "## Q1"
   ]
  },
  {
   "cell_type": "code",
   "execution_count": 2,
   "id": "843fcdcd-2bd0-4488-8dbe-15183f99d3c7",
   "metadata": {},
   "outputs": [
    {
     "name": "stdout",
     "output_type": "stream",
     "text": [
      "0     4\n",
      "1     8\n",
      "2    15\n",
      "3    16\n",
      "4    23\n",
      "5    42\n",
      "dtype: int64\n"
     ]
    }
   ],
   "source": [
    "data = [4,8,15,16,23,42]\n",
    "series = pd.Series(data)\n",
    "print(series)"
   ]
  },
  {
   "cell_type": "code",
   "execution_count": 3,
   "id": "139845fe-04c8-4ac0-829c-836150a1d718",
   "metadata": {},
   "outputs": [],
   "source": [
    "a= [ 'a','b','c','d','e','f']"
   ]
  },
  {
   "cell_type": "markdown",
   "id": "cce072fe-f899-469e-89f2-456f2269674d",
   "metadata": {},
   "source": [
    "## Q2"
   ]
  },
  {
   "cell_type": "code",
   "execution_count": 4,
   "id": "3c8f0df9-fdc5-44b4-896e-04109248e3b0",
   "metadata": {},
   "outputs": [],
   "source": [
    "data_var = ['Data science' , 'matchine learning' , 'pandas','numpy' , \"jpmorgan\" ,'kpmg' , 'motherson' , 'morgan stanle' , 'tata group' ,'adani'] "
   ]
  },
  {
   "cell_type": "code",
   "execution_count": 5,
   "id": "368513fe-33c4-4709-9c07-b8ac538fa7ba",
   "metadata": {},
   "outputs": [],
   "source": [
    "series1 = pd.Series(data_var)"
   ]
  },
  {
   "cell_type": "code",
   "execution_count": 6,
   "id": "f031d268-37c4-4bfa-a7ae-7fc8589f4242",
   "metadata": {},
   "outputs": [
    {
     "data": {
      "text/plain": [
       "0         Data science\n",
       "1    matchine learning\n",
       "2               pandas\n",
       "3                numpy\n",
       "4             jpmorgan\n",
       "5                 kpmg\n",
       "6            motherson\n",
       "7        morgan stanle\n",
       "8           tata group\n",
       "9                adani\n",
       "dtype: object"
      ]
     },
     "execution_count": 6,
     "metadata": {},
     "output_type": "execute_result"
    }
   ],
   "source": [
    "series1"
   ]
  },
  {
   "cell_type": "markdown",
   "id": "735f7185-0f04-4f74-9bf2-891f4e943dc2",
   "metadata": {},
   "source": [
    "## Q3"
   ]
  },
  {
   "cell_type": "code",
   "execution_count": 7,
   "id": "eeac1fc8-c53c-4ec0-9151-e631458f143e",
   "metadata": {},
   "outputs": [],
   "source": [
    "data3 = {'Name' :['Alice' , ' Bob' , 'Claire'],\n",
    "         'Age' : [ 25, 30 , 27],\n",
    "        'Gender' : [ 'Female' , 'Male' , 'Female']}"
   ]
  },
  {
   "cell_type": "code",
   "execution_count": 8,
   "id": "1e8bb504-397e-49f9-9677-af92dcb71743",
   "metadata": {},
   "outputs": [
    {
     "data": {
      "text/html": [
       "<div>\n",
       "<style scoped>\n",
       "    .dataframe tbody tr th:only-of-type {\n",
       "        vertical-align: middle;\n",
       "    }\n",
       "\n",
       "    .dataframe tbody tr th {\n",
       "        vertical-align: top;\n",
       "    }\n",
       "\n",
       "    .dataframe thead th {\n",
       "        text-align: right;\n",
       "    }\n",
       "</style>\n",
       "<table border=\"1\" class=\"dataframe\">\n",
       "  <thead>\n",
       "    <tr style=\"text-align: right;\">\n",
       "      <th></th>\n",
       "      <th>Name</th>\n",
       "      <th>Age</th>\n",
       "      <th>Gender</th>\n",
       "    </tr>\n",
       "  </thead>\n",
       "  <tbody>\n",
       "    <tr>\n",
       "      <th>0</th>\n",
       "      <td>Alice</td>\n",
       "      <td>25</td>\n",
       "      <td>Female</td>\n",
       "    </tr>\n",
       "    <tr>\n",
       "      <th>1</th>\n",
       "      <td>Bob</td>\n",
       "      <td>30</td>\n",
       "      <td>Male</td>\n",
       "    </tr>\n",
       "    <tr>\n",
       "      <th>2</th>\n",
       "      <td>Claire</td>\n",
       "      <td>27</td>\n",
       "      <td>Female</td>\n",
       "    </tr>\n",
       "  </tbody>\n",
       "</table>\n",
       "</div>"
      ],
      "text/plain": [
       "     Name  Age  Gender\n",
       "0   Alice   25  Female\n",
       "1     Bob   30    Male\n",
       "2  Claire   27  Female"
      ]
     },
     "execution_count": 8,
     "metadata": {},
     "output_type": "execute_result"
    }
   ],
   "source": [
    "data_frame =pd.DataFrame(data3)\n",
    "data_frame"
   ]
  },
  {
   "cell_type": "markdown",
   "id": "9811bfe4-a490-4a14-b7f8-b595dabced5a",
   "metadata": {},
   "source": [
    "## Q4"
   ]
  },
  {
   "cell_type": "markdown",
   "id": "9ad5a239-6c79-43cb-9566-c7fc6e22e991",
   "metadata": {},
   "source": [
    "1.DataFrame- it refers to the represent od 2d data in tabular form \n",
    "for ex-"
   ]
  },
  {
   "cell_type": "code",
   "execution_count": 9,
   "id": "ce9950af-43a7-4185-9fcf-69cb4328d65a",
   "metadata": {},
   "outputs": [],
   "source": [
    "data_2 = {\"Name\" :['arko' ,'deepak' ,'vivek','vipin'],\n",
    "          \"age\" :[25 ,22 ,22 ,21 ],\n",
    "          \"address\": [\"bengal\" , \"meerut\" , \"meerut\" , \"riwadi\"]}"
   ]
  },
  {
   "cell_type": "code",
   "execution_count": 10,
   "id": "91949653-bebb-4bf7-a331-48a17719c556",
   "metadata": {},
   "outputs": [],
   "source": [
    "data_fame =pd.DataFrame(data_2)"
   ]
  },
  {
   "cell_type": "code",
   "execution_count": 11,
   "id": "f31ca8f8-5937-40f9-953e-5425b004a3da",
   "metadata": {},
   "outputs": [
    {
     "data": {
      "text/html": [
       "<div>\n",
       "<style scoped>\n",
       "    .dataframe tbody tr th:only-of-type {\n",
       "        vertical-align: middle;\n",
       "    }\n",
       "\n",
       "    .dataframe tbody tr th {\n",
       "        vertical-align: top;\n",
       "    }\n",
       "\n",
       "    .dataframe thead th {\n",
       "        text-align: right;\n",
       "    }\n",
       "</style>\n",
       "<table border=\"1\" class=\"dataframe\">\n",
       "  <thead>\n",
       "    <tr style=\"text-align: right;\">\n",
       "      <th></th>\n",
       "      <th>Name</th>\n",
       "      <th>age</th>\n",
       "      <th>address</th>\n",
       "    </tr>\n",
       "  </thead>\n",
       "  <tbody>\n",
       "    <tr>\n",
       "      <th>0</th>\n",
       "      <td>arko</td>\n",
       "      <td>25</td>\n",
       "      <td>bengal</td>\n",
       "    </tr>\n",
       "    <tr>\n",
       "      <th>1</th>\n",
       "      <td>deepak</td>\n",
       "      <td>22</td>\n",
       "      <td>meerut</td>\n",
       "    </tr>\n",
       "    <tr>\n",
       "      <th>2</th>\n",
       "      <td>vivek</td>\n",
       "      <td>22</td>\n",
       "      <td>meerut</td>\n",
       "    </tr>\n",
       "    <tr>\n",
       "      <th>3</th>\n",
       "      <td>vipin</td>\n",
       "      <td>21</td>\n",
       "      <td>riwadi</td>\n",
       "    </tr>\n",
       "  </tbody>\n",
       "</table>\n",
       "</div>"
      ],
      "text/plain": [
       "     Name  age address\n",
       "0    arko   25  bengal\n",
       "1  deepak   22  meerut\n",
       "2   vivek   22  meerut\n",
       "3   vipin   21  riwadi"
      ]
     },
     "execution_count": 11,
     "metadata": {},
     "output_type": "execute_result"
    }
   ],
   "source": [
    "data_fame"
   ]
  },
  {
   "cell_type": "markdown",
   "id": "52b4bccc-e9af-49a3-8a16-b70df5d037eb",
   "metadata": {},
   "source": [
    "2.Series- it refers to the data series by the list"
   ]
  },
  {
   "cell_type": "code",
   "execution_count": 12,
   "id": "ceb44e38-b627-4285-ba1a-2b1bb075a7a0",
   "metadata": {},
   "outputs": [
    {
     "data": {
      "text/plain": [
       "0    1\n",
       "1    2\n",
       "2    3\n",
       "3    4\n",
       "4    5\n",
       "5    6\n",
       "dtype: int64"
      ]
     },
     "execution_count": 12,
     "metadata": {},
     "output_type": "execute_result"
    }
   ],
   "source": [
    "#example- \n",
    "data_series= [ 1, 2,3,4,5,6]\n",
    "pd.Series(data_series)"
   ]
  },
  {
   "cell_type": "markdown",
   "id": "b1638b53-0898-42ba-bab7-f83c536af852",
   "metadata": {},
   "source": [
    "## Q5"
   ]
  },
  {
   "cell_type": "code",
   "execution_count": 96,
   "id": "3982f20b-1db0-471e-b4c2-59386e42ed12",
   "metadata": {},
   "outputs": [
    {
     "data": {
      "text/html": [
       "<div>\n",
       "<style scoped>\n",
       "    .dataframe tbody tr th:only-of-type {\n",
       "        vertical-align: middle;\n",
       "    }\n",
       "\n",
       "    .dataframe tbody tr th {\n",
       "        vertical-align: top;\n",
       "    }\n",
       "\n",
       "    .dataframe thead th {\n",
       "        text-align: right;\n",
       "    }\n",
       "</style>\n",
       "<table border=\"1\" class=\"dataframe\">\n",
       "  <thead>\n",
       "    <tr style=\"text-align: right;\">\n",
       "      <th></th>\n",
       "      <th>address</th>\n",
       "    </tr>\n",
       "    <tr>\n",
       "      <th>Name</th>\n",
       "      <th></th>\n",
       "    </tr>\n",
       "  </thead>\n",
       "  <tbody>\n",
       "    <tr>\n",
       "      <th>arko</th>\n",
       "      <td>bengal</td>\n",
       "    </tr>\n",
       "    <tr>\n",
       "      <th>deepak</th>\n",
       "      <td>meerut</td>\n",
       "    </tr>\n",
       "    <tr>\n",
       "      <th>vivek</th>\n",
       "      <td>meerut</td>\n",
       "    </tr>\n",
       "    <tr>\n",
       "      <th>vipin</th>\n",
       "      <td>riwadi</td>\n",
       "    </tr>\n",
       "  </tbody>\n",
       "</table>\n",
       "</div>"
      ],
      "text/plain": [
       "       address\n",
       "Name          \n",
       "arko    bengal\n",
       "deepak  meerut\n",
       "vivek   meerut\n",
       "vipin   riwadi"
      ]
     },
     "execution_count": 96,
     "metadata": {},
     "output_type": "execute_result"
    }
   ],
   "source": [
    "#.drop - drop funcion in pandas used to delete the colum or row of the data \n",
    "data_fame.drop(\"age\",axis =1)"
   ]
  },
  {
   "cell_type": "code",
   "execution_count": 99,
   "id": "8f9fa50b-fad9-4375-ada5-55db7edd35a1",
   "metadata": {},
   "outputs": [],
   "source": [
    "a=data_fame.drop('age', axis=1)"
   ]
  },
  {
   "cell_type": "code",
   "execution_count": 98,
   "id": "cf109cc9-d34b-402e-a511-06eff6cbb4b4",
   "metadata": {},
   "outputs": [
    {
     "data": {
      "text/html": [
       "<div>\n",
       "<style scoped>\n",
       "    .dataframe tbody tr th:only-of-type {\n",
       "        vertical-align: middle;\n",
       "    }\n",
       "\n",
       "    .dataframe tbody tr th {\n",
       "        vertical-align: top;\n",
       "    }\n",
       "\n",
       "    .dataframe thead th {\n",
       "        text-align: right;\n",
       "    }\n",
       "</style>\n",
       "<table border=\"1\" class=\"dataframe\">\n",
       "  <thead>\n",
       "    <tr style=\"text-align: right;\">\n",
       "      <th></th>\n",
       "      <th>age</th>\n",
       "      <th>address</th>\n",
       "    </tr>\n",
       "    <tr>\n",
       "      <th>Name</th>\n",
       "      <th></th>\n",
       "      <th></th>\n",
       "    </tr>\n",
       "  </thead>\n",
       "  <tbody>\n",
       "    <tr>\n",
       "      <th>arko</th>\n",
       "      <td>25</td>\n",
       "      <td>bengal</td>\n",
       "    </tr>\n",
       "    <tr>\n",
       "      <th>deepak</th>\n",
       "      <td>22</td>\n",
       "      <td>meerut</td>\n",
       "    </tr>\n",
       "    <tr>\n",
       "      <th>vivek</th>\n",
       "      <td>22</td>\n",
       "      <td>meerut</td>\n",
       "    </tr>\n",
       "    <tr>\n",
       "      <th>vipin</th>\n",
       "      <td>21</td>\n",
       "      <td>riwadi</td>\n",
       "    </tr>\n",
       "  </tbody>\n",
       "</table>\n",
       "</div>"
      ],
      "text/plain": [
       "        age address\n",
       "Name               \n",
       "arko     25  bengal\n",
       "deepak   22  meerut\n",
       "vivek    22  meerut\n",
       "vipin    21  riwadi"
      ]
     },
     "execution_count": 98,
     "metadata": {},
     "output_type": "execute_result"
    }
   ],
   "source": [
    "data_fame"
   ]
  },
  {
   "cell_type": "code",
   "execution_count": 16,
   "id": "a3da2ffd-f741-40ea-b70f-8defd5dc0288",
   "metadata": {},
   "outputs": [
    {
     "data": {
      "text/html": [
       "<div>\n",
       "<style scoped>\n",
       "    .dataframe tbody tr th:only-of-type {\n",
       "        vertical-align: middle;\n",
       "    }\n",
       "\n",
       "    .dataframe tbody tr th {\n",
       "        vertical-align: top;\n",
       "    }\n",
       "\n",
       "    .dataframe thead th {\n",
       "        text-align: right;\n",
       "    }\n",
       "</style>\n",
       "<table border=\"1\" class=\"dataframe\">\n",
       "  <thead>\n",
       "    <tr style=\"text-align: right;\">\n",
       "      <th></th>\n",
       "      <th>Name</th>\n",
       "      <th>address</th>\n",
       "    </tr>\n",
       "  </thead>\n",
       "  <tbody>\n",
       "    <tr>\n",
       "      <th>0</th>\n",
       "      <td>arko</td>\n",
       "      <td>bengal</td>\n",
       "    </tr>\n",
       "    <tr>\n",
       "      <th>1</th>\n",
       "      <td>deepak</td>\n",
       "      <td>meerut</td>\n",
       "    </tr>\n",
       "    <tr>\n",
       "      <th>2</th>\n",
       "      <td>vivek</td>\n",
       "      <td>meerut</td>\n",
       "    </tr>\n",
       "    <tr>\n",
       "      <th>3</th>\n",
       "      <td>vipin</td>\n",
       "      <td>riwadi</td>\n",
       "    </tr>\n",
       "  </tbody>\n",
       "</table>\n",
       "</div>"
      ],
      "text/plain": [
       "     Name address\n",
       "0    arko  bengal\n",
       "1  deepak  meerut\n",
       "2   vivek  meerut\n",
       "3   vipin  riwadi"
      ]
     },
     "execution_count": 16,
     "metadata": {},
     "output_type": "execute_result"
    }
   ],
   "source": [
    "a"
   ]
  },
  {
   "cell_type": "code",
   "execution_count": 18,
   "id": "4180782a-36e9-4c84-9021-8f8fe7406c49",
   "metadata": {},
   "outputs": [
    {
     "data": {
      "text/html": [
       "<div>\n",
       "<style scoped>\n",
       "    .dataframe tbody tr th:only-of-type {\n",
       "        vertical-align: middle;\n",
       "    }\n",
       "\n",
       "    .dataframe tbody tr th {\n",
       "        vertical-align: top;\n",
       "    }\n",
       "\n",
       "    .dataframe thead th {\n",
       "        text-align: right;\n",
       "    }\n",
       "</style>\n",
       "<table border=\"1\" class=\"dataframe\">\n",
       "  <thead>\n",
       "    <tr style=\"text-align: right;\">\n",
       "      <th></th>\n",
       "      <th>Name</th>\n",
       "      <th>age</th>\n",
       "      <th>address</th>\n",
       "    </tr>\n",
       "  </thead>\n",
       "  <tbody>\n",
       "    <tr>\n",
       "      <th>0</th>\n",
       "      <td>arko</td>\n",
       "      <td>25</td>\n",
       "      <td>bengal</td>\n",
       "    </tr>\n",
       "    <tr>\n",
       "      <th>2</th>\n",
       "      <td>vivek</td>\n",
       "      <td>22</td>\n",
       "      <td>meerut</td>\n",
       "    </tr>\n",
       "    <tr>\n",
       "      <th>3</th>\n",
       "      <td>vipin</td>\n",
       "      <td>21</td>\n",
       "      <td>riwadi</td>\n",
       "    </tr>\n",
       "  </tbody>\n",
       "</table>\n",
       "</div>"
      ],
      "text/plain": [
       "    Name  age address\n",
       "0   arko   25  bengal\n",
       "2  vivek   22  meerut\n",
       "3  vipin   21  riwadi"
      ]
     },
     "execution_count": 18,
     "metadata": {},
     "output_type": "execute_result"
    }
   ],
   "source": [
    "data_fame.drop(1)"
   ]
  },
  {
   "cell_type": "code",
   "execution_count": 32,
   "id": "9d1ffbd5-ebd9-42e5-95ac-bce51251cf8e",
   "metadata": {},
   "outputs": [],
   "source": [
    "#.set_index - it can set the index which you want\n",
    "data_fame.set_index('Name',inplace= True)"
   ]
  },
  {
   "cell_type": "code",
   "execution_count": 25,
   "id": "872f6f80-611a-4438-af27-ccac580804c4",
   "metadata": {},
   "outputs": [
    {
     "data": {
      "text/html": [
       "<div>\n",
       "<style scoped>\n",
       "    .dataframe tbody tr th:only-of-type {\n",
       "        vertical-align: middle;\n",
       "    }\n",
       "\n",
       "    .dataframe tbody tr th {\n",
       "        vertical-align: top;\n",
       "    }\n",
       "\n",
       "    .dataframe thead th {\n",
       "        text-align: right;\n",
       "    }\n",
       "</style>\n",
       "<table border=\"1\" class=\"dataframe\">\n",
       "  <thead>\n",
       "    <tr style=\"text-align: right;\">\n",
       "      <th></th>\n",
       "      <th>age</th>\n",
       "      <th>address</th>\n",
       "    </tr>\n",
       "    <tr>\n",
       "      <th>Name</th>\n",
       "      <th></th>\n",
       "      <th></th>\n",
       "    </tr>\n",
       "  </thead>\n",
       "  <tbody>\n",
       "    <tr>\n",
       "      <th>arko</th>\n",
       "      <td>25</td>\n",
       "      <td>bengal</td>\n",
       "    </tr>\n",
       "    <tr>\n",
       "      <th>deepak</th>\n",
       "      <td>22</td>\n",
       "      <td>meerut</td>\n",
       "    </tr>\n",
       "    <tr>\n",
       "      <th>vivek</th>\n",
       "      <td>22</td>\n",
       "      <td>meerut</td>\n",
       "    </tr>\n",
       "    <tr>\n",
       "      <th>vipin</th>\n",
       "      <td>21</td>\n",
       "      <td>riwadi</td>\n",
       "    </tr>\n",
       "  </tbody>\n",
       "</table>\n",
       "</div>"
      ],
      "text/plain": [
       "        age address\n",
       "Name               \n",
       "arko     25  bengal\n",
       "deepak   22  meerut\n",
       "vivek    22  meerut\n",
       "vipin    21  riwadi"
      ]
     },
     "execution_count": 25,
     "metadata": {},
     "output_type": "execute_result"
    }
   ],
   "source": [
    "data_fame"
   ]
  },
  {
   "cell_type": "code",
   "execution_count": 23,
   "id": "4f116c0e-743b-462f-b678-de2f77ad2e6a",
   "metadata": {},
   "outputs": [
    {
     "data": {
      "text/html": [
       "<div>\n",
       "<style scoped>\n",
       "    .dataframe tbody tr th:only-of-type {\n",
       "        vertical-align: middle;\n",
       "    }\n",
       "\n",
       "    .dataframe tbody tr th {\n",
       "        vertical-align: top;\n",
       "    }\n",
       "\n",
       "    .dataframe thead th {\n",
       "        text-align: right;\n",
       "    }\n",
       "</style>\n",
       "<table border=\"1\" class=\"dataframe\">\n",
       "  <thead>\n",
       "    <tr style=\"text-align: right;\">\n",
       "      <th></th>\n",
       "      <th>age</th>\n",
       "      <th>address</th>\n",
       "    </tr>\n",
       "    <tr>\n",
       "      <th>Name</th>\n",
       "      <th></th>\n",
       "      <th></th>\n",
       "    </tr>\n",
       "  </thead>\n",
       "  <tbody>\n",
       "    <tr>\n",
       "      <th>arko</th>\n",
       "      <td>25</td>\n",
       "      <td>bengal</td>\n",
       "    </tr>\n",
       "    <tr>\n",
       "      <th>deepak</th>\n",
       "      <td>22</td>\n",
       "      <td>meerut</td>\n",
       "    </tr>\n",
       "    <tr>\n",
       "      <th>vipin</th>\n",
       "      <td>21</td>\n",
       "      <td>riwadi</td>\n",
       "    </tr>\n",
       "  </tbody>\n",
       "</table>\n",
       "</div>"
      ],
      "text/plain": [
       "        age address\n",
       "Name               \n",
       "arko     25  bengal\n",
       "deepak   22  meerut\n",
       "vipin    21  riwadi"
      ]
     },
     "execution_count": 23,
     "metadata": {},
     "output_type": "execute_result"
    }
   ],
   "source": [
    "data_fame.drop('vivek')"
   ]
  },
  {
   "cell_type": "code",
   "execution_count": 40,
   "id": "a92bc7dd-f0e2-47f6-a4bd-9e4299ddba00",
   "metadata": {},
   "outputs": [],
   "source": [
    "#.reset_index- it rearrange the index to defalt\n",
    "data_fame.reset_index(inplace= True)"
   ]
  },
  {
   "cell_type": "code",
   "execution_count": 41,
   "id": "9132ed34-43d8-47c8-b660-bd6b149aa180",
   "metadata": {},
   "outputs": [
    {
     "data": {
      "text/html": [
       "<div>\n",
       "<style scoped>\n",
       "    .dataframe tbody tr th:only-of-type {\n",
       "        vertical-align: middle;\n",
       "    }\n",
       "\n",
       "    .dataframe tbody tr th {\n",
       "        vertical-align: top;\n",
       "    }\n",
       "\n",
       "    .dataframe thead th {\n",
       "        text-align: right;\n",
       "    }\n",
       "</style>\n",
       "<table border=\"1\" class=\"dataframe\">\n",
       "  <thead>\n",
       "    <tr style=\"text-align: right;\">\n",
       "      <th></th>\n",
       "      <th>level_0</th>\n",
       "      <th>index</th>\n",
       "      <th>Name</th>\n",
       "      <th>age</th>\n",
       "      <th>address</th>\n",
       "    </tr>\n",
       "  </thead>\n",
       "  <tbody>\n",
       "    <tr>\n",
       "      <th>0</th>\n",
       "      <td>0</td>\n",
       "      <td>0</td>\n",
       "      <td>arko</td>\n",
       "      <td>25</td>\n",
       "      <td>bengal</td>\n",
       "    </tr>\n",
       "    <tr>\n",
       "      <th>1</th>\n",
       "      <td>1</td>\n",
       "      <td>1</td>\n",
       "      <td>deepak</td>\n",
       "      <td>22</td>\n",
       "      <td>meerut</td>\n",
       "    </tr>\n",
       "    <tr>\n",
       "      <th>2</th>\n",
       "      <td>2</td>\n",
       "      <td>2</td>\n",
       "      <td>vivek</td>\n",
       "      <td>22</td>\n",
       "      <td>meerut</td>\n",
       "    </tr>\n",
       "    <tr>\n",
       "      <th>3</th>\n",
       "      <td>3</td>\n",
       "      <td>3</td>\n",
       "      <td>vipin</td>\n",
       "      <td>21</td>\n",
       "      <td>riwadi</td>\n",
       "    </tr>\n",
       "  </tbody>\n",
       "</table>\n",
       "</div>"
      ],
      "text/plain": [
       "   level_0  index    Name  age address\n",
       "0        0      0    arko   25  bengal\n",
       "1        1      1  deepak   22  meerut\n",
       "2        2      2   vivek   22  meerut\n",
       "3        3      3   vipin   21  riwadi"
      ]
     },
     "execution_count": 41,
     "metadata": {},
     "output_type": "execute_result"
    }
   ],
   "source": [
    "data_fame"
   ]
  },
  {
   "cell_type": "code",
   "execution_count": 46,
   "id": "4637086e-6d2d-4c6c-af94-dbb6e8c3e991",
   "metadata": {},
   "outputs": [],
   "source": [
    "data_fame.set_index('Name',inplace = True)"
   ]
  },
  {
   "cell_type": "code",
   "execution_count": 58,
   "id": "c20ab0f1-b9f0-4f9a-a4e9-ad7ede531d11",
   "metadata": {},
   "outputs": [
    {
     "data": {
      "text/html": [
       "<div>\n",
       "<style scoped>\n",
       "    .dataframe tbody tr th:only-of-type {\n",
       "        vertical-align: middle;\n",
       "    }\n",
       "\n",
       "    .dataframe tbody tr th {\n",
       "        vertical-align: top;\n",
       "    }\n",
       "\n",
       "    .dataframe thead th {\n",
       "        text-align: right;\n",
       "    }\n",
       "</style>\n",
       "<table border=\"1\" class=\"dataframe\">\n",
       "  <thead>\n",
       "    <tr style=\"text-align: right;\">\n",
       "      <th></th>\n",
       "      <th>age</th>\n",
       "      <th>address</th>\n",
       "    </tr>\n",
       "    <tr>\n",
       "      <th>Name</th>\n",
       "      <th></th>\n",
       "      <th></th>\n",
       "    </tr>\n",
       "  </thead>\n",
       "  <tbody>\n",
       "    <tr>\n",
       "      <th>arko</th>\n",
       "      <td>25</td>\n",
       "      <td>bengal</td>\n",
       "    </tr>\n",
       "    <tr>\n",
       "      <th>deepak</th>\n",
       "      <td>22</td>\n",
       "      <td>meerut</td>\n",
       "    </tr>\n",
       "    <tr>\n",
       "      <th>vivek</th>\n",
       "      <td>22</td>\n",
       "      <td>meerut</td>\n",
       "    </tr>\n",
       "    <tr>\n",
       "      <th>vipin</th>\n",
       "      <td>21</td>\n",
       "      <td>riwadi</td>\n",
       "    </tr>\n",
       "  </tbody>\n",
       "</table>\n",
       "</div>"
      ],
      "text/plain": [
       "        age address\n",
       "Name               \n",
       "arko     25  bengal\n",
       "deepak   22  meerut\n",
       "vivek    22  meerut\n",
       "vipin    21  riwadi"
      ]
     },
     "execution_count": 58,
     "metadata": {},
     "output_type": "execute_result"
    }
   ],
   "source": [
    "data_fame"
   ]
  },
  {
   "cell_type": "code",
   "execution_count": 57,
   "id": "cfac87df-0a19-4ecb-9b3f-e6110c35e5d0",
   "metadata": {},
   "outputs": [
    {
     "data": {
      "text/html": [
       "<div>\n",
       "<style scoped>\n",
       "    .dataframe tbody tr th:only-of-type {\n",
       "        vertical-align: middle;\n",
       "    }\n",
       "\n",
       "    .dataframe tbody tr th {\n",
       "        vertical-align: top;\n",
       "    }\n",
       "\n",
       "    .dataframe thead th {\n",
       "        text-align: right;\n",
       "    }\n",
       "</style>\n",
       "<table border=\"1\" class=\"dataframe\">\n",
       "  <thead>\n",
       "    <tr style=\"text-align: right;\">\n",
       "      <th></th>\n",
       "      <th>age</th>\n",
       "      <th>address</th>\n",
       "    </tr>\n",
       "    <tr>\n",
       "      <th>Name</th>\n",
       "      <th></th>\n",
       "      <th></th>\n",
       "    </tr>\n",
       "  </thead>\n",
       "  <tbody>\n",
       "    <tr>\n",
       "      <th>arko</th>\n",
       "      <td>25</td>\n",
       "      <td>bengal</td>\n",
       "    </tr>\n",
       "    <tr>\n",
       "      <th>deepak</th>\n",
       "      <td>22</td>\n",
       "      <td>meerut</td>\n",
       "    </tr>\n",
       "    <tr>\n",
       "      <th>vivek</th>\n",
       "      <td>22</td>\n",
       "      <td>meerut</td>\n",
       "    </tr>\n",
       "    <tr>\n",
       "      <th>vipin</th>\n",
       "      <td>21</td>\n",
       "      <td>riwadi</td>\n",
       "    </tr>\n",
       "  </tbody>\n",
       "</table>\n",
       "</div>"
      ],
      "text/plain": [
       "        age address\n",
       "Name               \n",
       "arko     25  bengal\n",
       "deepak   22  meerut\n",
       "vivek    22  meerut\n",
       "vipin    21  riwadi"
      ]
     },
     "execution_count": 57,
     "metadata": {},
     "output_type": "execute_result"
    }
   ],
   "source": [
    "data_fame"
   ]
  },
  {
   "cell_type": "markdown",
   "id": "5dafa717-ea12-49dd-8f65-97ca6dba6ef5",
   "metadata": {},
   "source": [
    "## Q6"
   ]
  },
  {
   "cell_type": "markdown",
   "id": "dea9af29-1edb-4005-8816-60f2ac10d7f9",
   "metadata": {},
   "source": [
    "1. series & panel are immutable \n",
    "2. dataframe are mutable"
   ]
  },
  {
   "cell_type": "markdown",
   "id": "57fabb9b-5251-408a-bb62-58f36302be1b",
   "metadata": {},
   "source": [
    "## Q7"
   ]
  },
  {
   "cell_type": "code",
   "execution_count": 65,
   "id": "084a72f0-9216-465f-a580-dac747f044e7",
   "metadata": {},
   "outputs": [],
   "source": [
    "s1 = ['a','b','c','d','e']\n",
    "s2= [ 1,2,3,4,5]\n",
    "s3 = [ 10,13,15,16,18]"
   ]
  },
  {
   "cell_type": "code",
   "execution_count": 81,
   "id": "ad0a8b6d-f31c-4da2-8290-c4551b88a301",
   "metadata": {},
   "outputs": [],
   "source": [
    "s1=pd.Series(s1,name= 's1')"
   ]
  },
  {
   "cell_type": "code",
   "execution_count": 82,
   "id": "223e5826-a54b-47f8-bd50-f1113a15584b",
   "metadata": {},
   "outputs": [],
   "source": [
    "s2=pd.Series(s2,name= 's2')"
   ]
  },
  {
   "cell_type": "code",
   "execution_count": 83,
   "id": "8b9c1c45-8048-40b0-a34b-f417d5d08cb6",
   "metadata": {},
   "outputs": [],
   "source": [
    "s3=pd.Series(s3, name= 's3')"
   ]
  },
  {
   "cell_type": "code",
   "execution_count": 87,
   "id": "d1bd36ff-8fd3-4e59-a057-701555759646",
   "metadata": {},
   "outputs": [],
   "source": [
    "a=pd.concat([s1,s2,s3],axis =1)"
   ]
  },
  {
   "cell_type": "code",
   "execution_count": 88,
   "id": "65e2a407-c1e2-4615-9a19-e1938c8752e3",
   "metadata": {},
   "outputs": [
    {
     "data": {
      "text/html": [
       "<div>\n",
       "<style scoped>\n",
       "    .dataframe tbody tr th:only-of-type {\n",
       "        vertical-align: middle;\n",
       "    }\n",
       "\n",
       "    .dataframe tbody tr th {\n",
       "        vertical-align: top;\n",
       "    }\n",
       "\n",
       "    .dataframe thead th {\n",
       "        text-align: right;\n",
       "    }\n",
       "</style>\n",
       "<table border=\"1\" class=\"dataframe\">\n",
       "  <thead>\n",
       "    <tr style=\"text-align: right;\">\n",
       "      <th></th>\n",
       "      <th>s1</th>\n",
       "      <th>s2</th>\n",
       "      <th>s3</th>\n",
       "    </tr>\n",
       "  </thead>\n",
       "  <tbody>\n",
       "    <tr>\n",
       "      <th>0</th>\n",
       "      <td>a</td>\n",
       "      <td>1</td>\n",
       "      <td>10</td>\n",
       "    </tr>\n",
       "    <tr>\n",
       "      <th>1</th>\n",
       "      <td>b</td>\n",
       "      <td>2</td>\n",
       "      <td>13</td>\n",
       "    </tr>\n",
       "    <tr>\n",
       "      <th>2</th>\n",
       "      <td>c</td>\n",
       "      <td>3</td>\n",
       "      <td>15</td>\n",
       "    </tr>\n",
       "    <tr>\n",
       "      <th>3</th>\n",
       "      <td>d</td>\n",
       "      <td>4</td>\n",
       "      <td>16</td>\n",
       "    </tr>\n",
       "    <tr>\n",
       "      <th>4</th>\n",
       "      <td>e</td>\n",
       "      <td>5</td>\n",
       "      <td>18</td>\n",
       "    </tr>\n",
       "  </tbody>\n",
       "</table>\n",
       "</div>"
      ],
      "text/plain": [
       "  s1  s2  s3\n",
       "0  a   1  10\n",
       "1  b   2  13\n",
       "2  c   3  15\n",
       "3  d   4  16\n",
       "4  e   5  18"
      ]
     },
     "execution_count": 88,
     "metadata": {},
     "output_type": "execute_result"
    }
   ],
   "source": [
    "a"
   ]
  },
  {
   "cell_type": "code",
   "execution_count": null,
   "id": "52eadf0a-fa96-4d51-8744-590804673cc1",
   "metadata": {},
   "outputs": [],
   "source": []
  },
  {
   "cell_type": "code",
   "execution_count": null,
   "id": "7647094b-d7c9-42ac-b3b9-a25b2ba86727",
   "metadata": {},
   "outputs": [],
   "source": []
  }
 ],
 "metadata": {
  "kernelspec": {
   "display_name": "Python 3 (ipykernel)",
   "language": "python",
   "name": "python3"
  },
  "language_info": {
   "codemirror_mode": {
    "name": "ipython",
    "version": 3
   },
   "file_extension": ".py",
   "mimetype": "text/x-python",
   "name": "python",
   "nbconvert_exporter": "python",
   "pygments_lexer": "ipython3",
   "version": "3.10.8"
  }
 },
 "nbformat": 4,
 "nbformat_minor": 5
}
