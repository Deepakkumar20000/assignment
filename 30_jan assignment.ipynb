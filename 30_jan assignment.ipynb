{
 "cells": [
  {
   "cell_type": "markdown",
   "id": "aabe683a-2160-46bb-9f1c-7e8dfc4ab325",
   "metadata": {},
   "source": [
    "## Assignment 2\n",
    "### ANS 1"
   ]
  },
  {
   "cell_type": "code",
   "execution_count": 2,
   "id": "c3da9ea2-e0d5-4b57-85f9-9934dcb85587",
   "metadata": {},
   "outputs": [
    {
     "name": "stdin",
     "output_type": "stream",
     "text": [
      "enter marks 75\n"
     ]
    },
    {
     "name": "stdout",
     "output_type": "stream",
     "text": [
      "C\n"
     ]
    }
   ],
   "source": [
    "a = int(input(\"enter marks\"))\n",
    "if a > 90:\n",
    "    print(\"A\")\n",
    "elif 90>= a >80:\n",
    "    print(\"B\")\n",
    "elif 80>= a >= 60:\n",
    "    print(\"C\")\n",
    "else :\n",
    "    print(\"D\")"
   ]
  },
  {
   "cell_type": "markdown",
   "id": "9a8bf3bc-8d95-4b86-9bd5-db8e682d3eb9",
   "metadata": {},
   "source": [
    "## ANS2"
   ]
  },
  {
   "cell_type": "code",
   "execution_count": 3,
   "id": "bc09c571-940e-4b1e-a7e3-21d5f1e7bce1",
   "metadata": {},
   "outputs": [
    {
     "name": "stdin",
     "output_type": "stream",
     "text": [
      " price of car 50000\n"
     ]
    },
    {
     "name": "stdout",
     "output_type": "stream",
     "text": [
      "52500.0\n"
     ]
    }
   ],
   "source": [
    "x = int(input(\" price of car\"))\n",
    "if x> 100000:\n",
    "    a= x+( x*15)/100\n",
    "elif 100000>=x > 50000:\n",
    "    a= x+ (x*10)/100\n",
    "elif x<= 50000:\n",
    "    a= x+(x*5)/100\n",
    "print(a)"
   ]
  },
  {
   "cell_type": "markdown",
   "id": "a7c0cedb-fb8e-41aa-a299-d16f05abadf4",
   "metadata": {},
   "source": [
    "## ANS 3"
   ]
  },
  {
   "cell_type": "code",
   "execution_count": 4,
   "id": "0f735d05-c8a8-4fd6-93c0-caa9cec73510",
   "metadata": {},
   "outputs": [
    {
     "name": "stdin",
     "output_type": "stream",
     "text": [
      "city delhi\n"
     ]
    },
    {
     "name": "stdout",
     "output_type": "stream",
     "text": [
      "red fort\n"
     ]
    }
   ],
   "source": [
    "a = input(\"city\")\n",
    "d= {\"delhi\": \"red fort\",\"agra\":\"taj mahal\", \"jaipur\":\"jal mahal\"}\n",
    "print(d[a])"
   ]
  },
  {
   "cell_type": "markdown",
   "id": "5c947098-bc23-4ea8-865f-7cc970d049c9",
   "metadata": {},
   "source": [
    "## ANS 4"
   ]
  },
  {
   "cell_type": "code",
   "execution_count": 5,
   "id": "eedc8146-14a7-437e-b1b0-4e3a832cd089",
   "metadata": {},
   "outputs": [
    {
     "name": "stdin",
     "output_type": "stream",
     "text": [
      "e 9\n"
     ]
    },
    {
     "name": "stdout",
     "output_type": "stream",
     "text": [
      "3\n"
     ]
    }
   ],
   "source": [
    "b = 0\n",
    "n = int(input(\"e\"))\n",
    "for c in range( 1 , n+1):\n",
    "        if c%3 ==0:\n",
    "            b = b+1\n",
    "print(b)"
   ]
  },
  {
   "cell_type": "markdown",
   "id": "782575e3-785d-45ca-ba46-b8952da5d21a",
   "metadata": {},
   "source": [
    "## ANS 5\n"
   ]
  },
  {
   "cell_type": "markdown",
   "id": "661c28db-b9f0-43f6-98c5-6dd3c5f08b72",
   "metadata": {},
   "source": [
    "While loop is used to run a block code unit a certain condition is met "
   ]
  },
  {
   "cell_type": "code",
   "execution_count": 3,
   "id": "72bf35eb-fd66-43a0-b892-c759e1520809",
   "metadata": {},
   "outputs": [
    {
     "name": "stdout",
     "output_type": "stream",
     "text": [
      "1\n",
      "2\n",
      "3\n",
      "4\n",
      "5\n",
      "6\n",
      "7\n",
      "8\n",
      "9\n",
      "10\n"
     ]
    }
   ],
   "source": [
    "a=0\n",
    "while a < 10:\n",
    "    a=a+1\n",
    "    print(a)"
   ]
  },
  {
   "cell_type": "markdown",
   "id": "a42464b6-b53e-4902-8536-f7afc53e78a6",
   "metadata": {},
   "source": [
    "## ANS 6"
   ]
  },
  {
   "cell_type": "code",
   "execution_count": 3,
   "id": "a3168a8b-b718-45b2-b531-35393936f264",
   "metadata": {},
   "outputs": [
    {
     "name": "stdout",
     "output_type": "stream",
     "text": [
      "0\n",
      "1\n",
      "2\n",
      "4\n",
      "8\n",
      "16\n",
      "32\n",
      "64\n",
      "128\n",
      "256\n"
     ]
    }
   ],
   "source": [
    "a = 0\n",
    "b = 1 \n",
    "c = 0\n",
    "while c < 10:\n",
    "    print(a)\n",
    "    a = a + b \n",
    "    b = a \n",
    "    c = c+1 "
   ]
  },
  {
   "cell_type": "code",
   "execution_count": 6,
   "id": "aaf31316-d446-40b7-953c-dca3b9efa136",
   "metadata": {},
   "outputs": [
    {
     "name": "stdout",
     "output_type": "stream",
     "text": [
      "0\n",
      "1\n",
      "1\n",
      "2\n",
      "3\n",
      "5\n",
      "8\n",
      "13\n",
      "21\n",
      "34\n",
      "55\n"
     ]
    }
   ],
   "source": [
    "a = 0\n",
    "b = 1 \n",
    "n = 0\n",
    "while n <= 10:\n",
    "    print(a)\n",
    "    c = a + b \n",
    "    a = b \n",
    "    b = c \n",
    "    n = n+1"
   ]
  },
  {
   "cell_type": "code",
   "execution_count": 17,
   "id": "8ae0e119-5f5d-45cc-976d-43782cb19f7d",
   "metadata": {},
   "outputs": [
    {
     "name": "stdin",
     "output_type": "stream",
     "text": [
      "table of  2\n"
     ]
    },
    {
     "name": "stdout",
     "output_type": "stream",
     "text": [
      "2 * 1 = 2\n",
      "2 * 2 = 4\n",
      "2 * 3 = 6\n",
      "2 * 4 = 8\n",
      "2 * 5 = 10\n",
      "2 * 6 = 12\n",
      "2 * 7 = 14\n",
      "2 * 8 = 16\n",
      "2 * 9 = 18\n",
      "2 * 10 = 20\n"
     ]
    }
   ],
   "source": [
    "#table \n",
    "t = int(input(\"table of \"))\n",
    "a = 1 \n",
    "while a <=10:\n",
    "    c = a* t\n",
    "    a = a+1\n",
    "    print( t ,\"*\", a-1 ,\"=\", c)\n",
    "    "
   ]
  },
  {
   "cell_type": "code",
   "execution_count": 1,
   "id": "7fd38930-a9d5-46a5-818d-158fcb9366be",
   "metadata": {},
   "outputs": [
    {
     "name": "stdout",
     "output_type": "stream",
     "text": [
      "10\n",
      "9\n",
      "8\n",
      "7\n",
      "6\n",
      "5\n",
      "4\n",
      "3\n",
      "2\n",
      "1\n"
     ]
    }
   ],
   "source": [
    "a = 10 \n",
    "while a <= 10 and a > 0:\n",
    "    print(a)\n",
    "    a = a-1"
   ]
  },
  {
   "cell_type": "code",
   "execution_count": null,
   "id": "56ee5d67-530e-46f6-9b09-0841aedc6550",
   "metadata": {},
   "outputs": [],
   "source": []
  }
 ],
 "metadata": {
  "kernelspec": {
   "display_name": "Python 3 (ipykernel)",
   "language": "python",
   "name": "python3"
  },
  "language_info": {
   "codemirror_mode": {
    "name": "ipython",
    "version": 3
   },
   "file_extension": ".py",
   "mimetype": "text/x-python",
   "name": "python",
   "nbconvert_exporter": "python",
   "pygments_lexer": "ipython3",
   "version": "3.10.8"
  }
 },
 "nbformat": 4,
 "nbformat_minor": 5
}
