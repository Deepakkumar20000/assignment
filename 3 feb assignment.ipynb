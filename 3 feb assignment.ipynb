{
 "cells": [
  {
   "cell_type": "markdown",
   "id": "7de52bb5-6327-4bd8-9a26-8a026c3cf37b",
   "metadata": {},
   "source": [
    "## ANS 1 \n",
    "1. def is used to crete a function \n",
    "for example - \n",
    "\n",
    "def name_of_function( input you want to give)\n",
    "   print(result of function)"
   ]
  },
  {
   "cell_type": "code",
   "execution_count": 1,
   "id": "bd6d486a-70cb-4072-8fd9-18c02516ea4a",
   "metadata": {},
   "outputs": [],
   "source": [
    "#for output of odd number till 25\n",
    "def odd():\n",
    "    for i in range(1,26):\n",
    "        if i%2!= 0:\n",
    "            print(i)"
   ]
  },
  {
   "cell_type": "code",
   "execution_count": 2,
   "id": "e81846ef-00c9-4a76-a5cf-4911d87a29f5",
   "metadata": {},
   "outputs": [
    {
     "name": "stdout",
     "output_type": "stream",
     "text": [
      "1\n",
      "3\n",
      "5\n",
      "7\n",
      "9\n",
      "11\n",
      "13\n",
      "15\n",
      "17\n",
      "19\n",
      "21\n",
      "23\n",
      "25\n"
     ]
    }
   ],
   "source": [
    "odd()"
   ]
  },
  {
   "cell_type": "code",
   "execution_count": 3,
   "id": "662f37c1-f259-4bfc-b518-ea73bb613809",
   "metadata": {},
   "outputs": [],
   "source": [
    "# for list of odd number \n",
    "l = []\n",
    "def odd_list(n):\n",
    "    for i in range(1,n):\n",
    "        if i%2 !=0 :\n",
    "            l.append(i)\n",
    "            "
   ]
  },
  {
   "cell_type": "code",
   "execution_count": 4,
   "id": "b970e38b-6a49-410e-a776-59c54a49b17b",
   "metadata": {},
   "outputs": [],
   "source": [
    "odd_list(26)"
   ]
  },
  {
   "cell_type": "code",
   "execution_count": 5,
   "id": "469da4e6-765e-4216-9cf9-3a777171e89d",
   "metadata": {},
   "outputs": [
    {
     "data": {
      "text/plain": [
       "[1, 3, 5, 7, 9, 11, 13, 15, 17, 19, 21, 23, 25]"
      ]
     },
     "execution_count": 5,
     "metadata": {},
     "output_type": "execute_result"
    }
   ],
   "source": [
    "l"
   ]
  },
  {
   "cell_type": "markdown",
   "id": "bf6b00da-8c5f-4afd-8e43-370b3385d4b4",
   "metadata": {},
   "source": [
    "## ANS 2"
   ]
  },
  {
   "cell_type": "markdown",
   "id": "db802a15-5936-42f2-97e5-76cd59c6a86c",
   "metadata": {},
   "source": [
    "1. *arge is use to give or take a multiple input that is more than on input. if we use * in function then we giving the person to input more then 1. \n",
    "2. **kwargs is use for creating or giving input in dictionary in a function "
   ]
  },
  {
   "cell_type": "code",
   "execution_count": 6,
   "id": "869db9a6-3ff8-49e7-9fc5-4374500e7c8a",
   "metadata": {},
   "outputs": [],
   "source": [
    "def test(**args):\n",
    "    return(args)"
   ]
  },
  {
   "cell_type": "code",
   "execution_count": 7,
   "id": "2cd94406-f512-44e7-9cc8-1b323352418a",
   "metadata": {},
   "outputs": [
    {
     "data": {
      "text/plain": [
       "{'a': 2, 'b': 3, 'c': 4}"
      ]
     },
     "execution_count": 7,
     "metadata": {},
     "output_type": "execute_result"
    }
   ],
   "source": [
    "test(a=2 ,b = 3 ,c = 4)"
   ]
  },
  {
   "cell_type": "code",
   "execution_count": 8,
   "id": "117499ac-6b4c-4229-8970-ce4f6fac02a4",
   "metadata": {},
   "outputs": [],
   "source": [
    "def test2(*ar):\n",
    "    return(ar)"
   ]
  },
  {
   "cell_type": "code",
   "execution_count": 9,
   "id": "8338a044-f444-4bf9-bb9b-fce221ce73a4",
   "metadata": {},
   "outputs": [
    {
     "data": {
      "text/plain": [
       "('a', 2, 'a+b ', 4)"
      ]
     },
     "execution_count": 9,
     "metadata": {},
     "output_type": "execute_result"
    }
   ],
   "source": [
    "test2(\"a\" , 2 , \"a+b \",4)"
   ]
  },
  {
   "cell_type": "markdown",
   "id": "c0d16ffb-9bd0-4d62-92fb-10ee69893798",
   "metadata": {},
   "source": [
    "## ANS 3\n",
    "1. Iterator is something which can be iterate like list, dictonary, string etc \n",
    "2. iteration can be done by for loop , iter function ."
   ]
  },
  {
   "cell_type": "code",
   "execution_count": 10,
   "id": "210fbade-632a-4918-837c-4b0a16191d48",
   "metadata": {},
   "outputs": [],
   "source": [
    "a = [ 2,4,6,8,10,12,14,16,18,20]"
   ]
  },
  {
   "cell_type": "code",
   "execution_count": 11,
   "id": "31094ab0-37ef-4051-8426-278aab751a56",
   "metadata": {},
   "outputs": [],
   "source": [
    "s = iter(a)"
   ]
  },
  {
   "cell_type": "code",
   "execution_count": 12,
   "id": "ff983c03-ca83-4940-9488-ab06abf2cec0",
   "metadata": {},
   "outputs": [
    {
     "data": {
      "text/plain": [
       "2"
      ]
     },
     "execution_count": 12,
     "metadata": {},
     "output_type": "execute_result"
    }
   ],
   "source": [
    "next(s)"
   ]
  },
  {
   "cell_type": "code",
   "execution_count": 13,
   "id": "4cf506e7-9431-4c6e-b482-4360392ce7d7",
   "metadata": {},
   "outputs": [
    {
     "data": {
      "text/plain": [
       "4"
      ]
     },
     "execution_count": 13,
     "metadata": {},
     "output_type": "execute_result"
    }
   ],
   "source": [
    "next(s)"
   ]
  },
  {
   "cell_type": "code",
   "execution_count": 14,
   "id": "0a1140fa-7b19-4a29-bfab-cd4e00509e0b",
   "metadata": {},
   "outputs": [
    {
     "data": {
      "text/plain": [
       "6"
      ]
     },
     "execution_count": 14,
     "metadata": {},
     "output_type": "execute_result"
    }
   ],
   "source": [
    "next(s)"
   ]
  },
  {
   "cell_type": "code",
   "execution_count": 15,
   "id": "6b7ffd9c-be73-46cb-af87-0ce75b141818",
   "metadata": {},
   "outputs": [
    {
     "data": {
      "text/plain": [
       "8"
      ]
     },
     "execution_count": 15,
     "metadata": {},
     "output_type": "execute_result"
    }
   ],
   "source": [
    "next(s)"
   ]
  },
  {
   "cell_type": "code",
   "execution_count": 16,
   "id": "c53e9ec4-f8cc-4193-9fe5-6cd42a122ac3",
   "metadata": {},
   "outputs": [
    {
     "data": {
      "text/plain": [
       "10"
      ]
     },
     "execution_count": 16,
     "metadata": {},
     "output_type": "execute_result"
    }
   ],
   "source": [
    "next(s)"
   ]
  },
  {
   "cell_type": "markdown",
   "id": "06c42f73-ce06-4f0e-b1cd-53ac919d2bf7",
   "metadata": {},
   "source": [
    "## ANS 4"
   ]
  },
  {
   "cell_type": "markdown",
   "id": "29d554d4-9b99-4a4e-90f0-4c7a3870f875",
   "metadata": {},
   "source": [
    "1. Generator function is to generate output again and again it is use to mininmize the memory of program . \n",
    "2. yield is used as generator it give output and take that output to condition or loop until the condition mention or limit mention is fullfilled "
   ]
  },
  {
   "cell_type": "code",
   "execution_count": 17,
   "id": "e4ae9d7f-07f4-464a-a16c-4e16b040412d",
   "metadata": {},
   "outputs": [],
   "source": [
    "def test(n):\n",
    "    a = 0 \n",
    "    b = 1\n",
    "    for i in range(n):\n",
    "        yield a\n",
    "        c = a+b\n",
    "        a = b \n",
    "        b = c "
   ]
  },
  {
   "cell_type": "code",
   "execution_count": 18,
   "id": "15628364-d394-4d92-b343-122d647c8513",
   "metadata": {},
   "outputs": [
    {
     "name": "stdout",
     "output_type": "stream",
     "text": [
      "0\n",
      "1\n",
      "1\n",
      "2\n",
      "3\n",
      "5\n",
      "8\n",
      "13\n",
      "21\n",
      "34\n"
     ]
    }
   ],
   "source": [
    "for i in test(10):\n",
    "    print(i)"
   ]
  },
  {
   "cell_type": "markdown",
   "id": "f1ad15d5-3561-4a1b-a011-5d72834cda74",
   "metadata": {},
   "source": [
    "## ANS 5"
   ]
  },
  {
   "cell_type": "code",
   "execution_count": 19,
   "id": "498dcdb1-146c-4ac0-af24-a79ff8e1939c",
   "metadata": {},
   "outputs": [],
   "source": [
    "def prime_generator():\n",
    "    num = 2\n",
    "\n",
    "    while num < 1000:\n",
    "        is_prime = True\n",
    "\n",
    "    \n",
    "        for i in range(2, num):\n",
    "            if num % i == 0:\n",
    "                is_prime = False\n",
    "                break\n",
    "\n",
    "        if is_prime:\n",
    "            yield num\n",
    "\n",
    "        num += 1\n"
   ]
  },
  {
   "cell_type": "code",
   "execution_count": 20,
   "id": "8e0682a3-21ef-40bf-8b91-ec33eed45a54",
   "metadata": {},
   "outputs": [
    {
     "name": "stdout",
     "output_type": "stream",
     "text": [
      "2\n",
      "3\n",
      "5\n",
      "7\n",
      "11\n",
      "13\n",
      "17\n",
      "19\n",
      "23\n",
      "29\n",
      "31\n",
      "37\n",
      "41\n",
      "43\n",
      "47\n",
      "53\n",
      "59\n",
      "61\n",
      "67\n",
      "71\n"
     ]
    }
   ],
   "source": [
    "\n",
    "prime_gen = prime_generator()\n",
    "\n",
    "for i in range(20):\n",
    "    print(next(prime_gen))"
   ]
  },
  {
   "cell_type": "markdown",
   "id": "ea571894-322b-4dfe-98eb-4b34faa259f5",
   "metadata": {},
   "source": [
    "## ANS 6"
   ]
  },
  {
   "cell_type": "code",
   "execution_count": 21,
   "id": "44cb388d-5923-428a-94fe-fb5564bce819",
   "metadata": {},
   "outputs": [
    {
     "name": "stdout",
     "output_type": "stream",
     "text": [
      "0\n",
      "1\n",
      "1\n",
      "2\n",
      "3\n",
      "5\n",
      "8\n",
      "13\n",
      "21\n",
      "34\n",
      "55\n"
     ]
    }
   ],
   "source": [
    "a= 0 \n",
    "b = 1\n",
    "d = 0\n",
    "while d <=10:\n",
    "    print(a)\n",
    "    c= a+b\n",
    "    a = b\n",
    "    b = c\n",
    "    d = d+1"
   ]
  },
  {
   "cell_type": "markdown",
   "id": "bbed57d7-8bf1-4f4a-aa35-0c9c38b32114",
   "metadata": {},
   "source": [
    "## Ans 7"
   ]
  },
  {
   "cell_type": "code",
   "execution_count": 22,
   "id": "373902d7-fcf2-4694-9dbd-bd9e171b1345",
   "metadata": {},
   "outputs": [
    {
     "data": {
      "text/plain": [
       "['p', 'w', 's', 'k', 'i', 'l', 'l', 's']"
      ]
     },
     "execution_count": 22,
     "metadata": {},
     "output_type": "execute_result"
    }
   ],
   "source": [
    "s = \"pwskills\"\n",
    "l = []\n",
    "for i in s:\n",
    "    l.append(i)\n",
    "l   "
   ]
  },
  {
   "cell_type": "markdown",
   "id": "e72d64c3-0a31-42fc-a510-3b7962f2e005",
   "metadata": {},
   "source": [
    "## ANS 8 "
   ]
  },
  {
   "cell_type": "code",
   "execution_count": 25,
   "id": "45fa5113-d7ca-4326-a543-e7559e9b2047",
   "metadata": {},
   "outputs": [
    {
     "name": "stdin",
     "output_type": "stream",
     "text": [
      "number 232\n"
     ]
    },
    {
     "name": "stdout",
     "output_type": "stream",
     "text": [
      "palindrome\n"
     ]
    }
   ],
   "source": [
    "n = int(input(\"number\"))\n",
    "a = str(n)\n",
    "b = a[::-1]\n",
    "c = int(b)\n",
    "if n == c:\n",
    "    print(\"palindrome\")\n",
    "else:\n",
    "    print(\"not\")"
   ]
  },
  {
   "cell_type": "markdown",
   "id": "d3b1c866-1635-40a2-b700-eb7ae8b48dae",
   "metadata": {},
   "source": [
    "## ANS 9"
   ]
  },
  {
   "cell_type": "code",
   "execution_count": null,
   "id": "c6f5ed28-39de-4abf-9768-fe19299f0534",
   "metadata": {},
   "outputs": [],
   "source": [
    "[i for i in range(1,100) if i%2!=0]"
   ]
  },
  {
   "cell_type": "code",
   "execution_count": null,
   "id": "91513fe5-caa0-42af-aea9-de2f409ec720",
   "metadata": {},
   "outputs": [],
   "source": []
  },
  {
   "cell_type": "code",
   "execution_count": null,
   "id": "9123d8a9-5901-471f-9544-695fdd0ddcbb",
   "metadata": {},
   "outputs": [],
   "source": []
  }
 ],
 "metadata": {
  "kernelspec": {
   "display_name": "Python 3 (ipykernel)",
   "language": "python",
   "name": "python3"
  },
  "language_info": {
   "codemirror_mode": {
    "name": "ipython",
    "version": 3
   },
   "file_extension": ".py",
   "mimetype": "text/x-python",
   "name": "python",
   "nbconvert_exporter": "python",
   "pygments_lexer": "ipython3",
   "version": "3.10.8"
  }
 },
 "nbformat": 4,
 "nbformat_minor": 5
}
