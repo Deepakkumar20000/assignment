{
 "cells": [
  {
   "cell_type": "markdown",
   "id": "7ae3ff9a-b3b1-4ef6-9e08-173cdf566057",
   "metadata": {},
   "source": [
    "## ANS 1"
   ]
  },
  {
   "cell_type": "code",
   "execution_count": 2,
   "id": "0098a79d-3ae8-4c5d-bb95-90c53563651e",
   "metadata": {},
   "outputs": [],
   "source": [
    "l = [('Sachin Tendulkar', 34357), ('Ricky Ponting', 27483), ('Jack Kallis', 25534), ('Virat Kohli', 24936)]"
   ]
  },
  {
   "cell_type": "code",
   "execution_count": null,
   "id": "5ddac086-84a9-4faa-a2dc-b71d88efcf71",
   "metadata": {},
   "outputs": [],
   "source": []
  },
  {
   "cell_type": "code",
   "execution_count": 2,
   "id": "9c54f4d1-2aa9-4434-b88e-a0b52e350c87",
   "metadata": {},
   "outputs": [],
   "source": [
    "l1=[]\n",
    "\n",
    "for i in l:\n",
    "    if type(i)== tuple:\n",
    "         a = i \n",
    "    for j in a:\n",
    "        if type(j)== int:\n",
    "            l1.append(j)"
   ]
  },
  {
   "cell_type": "code",
   "execution_count": 3,
   "id": "5d7460da-c427-4a6e-b793-a44a6437bb98",
   "metadata": {},
   "outputs": [
    {
     "data": {
      "text/plain": [
       "[34357, 27483, 25534, 24936]"
      ]
     },
     "execution_count": 3,
     "metadata": {},
     "output_type": "execute_result"
    }
   ],
   "source": [
    "l1"
   ]
  },
  {
   "cell_type": "code",
   "execution_count": 3,
   "id": "e3eb7c16-4650-4a44-8ff3-43710f8b431d",
   "metadata": {},
   "outputs": [
    {
     "data": {
      "text/plain": [
       "[]"
      ]
     },
     "execution_count": 3,
     "metadata": {},
     "output_type": "execute_result"
    }
   ],
   "source": [
    "list(filter(lambda x:x for i in x if   type(x)== int , l))"
   ]
  },
  {
   "cell_type": "markdown",
   "id": "cc599c32-c677-4de1-9b62-1938708c1a09",
   "metadata": {},
   "source": [
    "## ANS 2"
   ]
  },
  {
   "cell_type": "code",
   "execution_count": 22,
   "id": "1d3be6f4-e5d7-449e-bb91-08efbfaf4883",
   "metadata": {},
   "outputs": [],
   "source": [
    "l2 = [ 1,2,3,4,5,6,7,8,9,10]"
   ]
  },
  {
   "cell_type": "code",
   "execution_count": 23,
   "id": "aabfc74f-3942-4a27-bacf-5901a1a36fb0",
   "metadata": {},
   "outputs": [
    {
     "data": {
      "text/plain": [
       "[1, 4, 9, 16, 25, 36, 49, 64, 81, 100]"
      ]
     },
     "execution_count": 23,
     "metadata": {},
     "output_type": "execute_result"
    }
   ],
   "source": [
    "list(map(lambda x : x**2 , l2))"
   ]
  },
  {
   "cell_type": "markdown",
   "id": "eb566cdd-b818-4562-b375-5edfeea24fc8",
   "metadata": {},
   "source": [
    "## Ans 3"
   ]
  },
  {
   "cell_type": "code",
   "execution_count": 1,
   "id": "db502404-f6a8-462f-9532-97955f62a453",
   "metadata": {},
   "outputs": [],
   "source": [
    "s = [ 1,2,3,4,5,6,7,8,9,10]"
   ]
  },
  {
   "cell_type": "code",
   "execution_count": 4,
   "id": "611df112-4dde-4088-9b42-0f795a388411",
   "metadata": {},
   "outputs": [
    {
     "data": {
      "text/plain": [
       "('1', '2', '3', '4', '5', '6', '7', '8', '9', '10')"
      ]
     },
     "execution_count": 4,
     "metadata": {},
     "output_type": "execute_result"
    }
   ],
   "source": [
    "tuple(map(lambda x: str(x) , s))"
   ]
  },
  {
   "cell_type": "markdown",
   "id": "60eab62e-14aa-45d3-863c-3fdb826f2463",
   "metadata": {},
   "source": [
    "# ans 4"
   ]
  },
  {
   "cell_type": "code",
   "execution_count": 5,
   "id": "87a7e392-a058-4ee4-beac-c573daabb4a2",
   "metadata": {},
   "outputs": [],
   "source": [
    "l = []\n",
    "for i in range(1,26):\n",
    "    l.append(i)"
   ]
  },
  {
   "cell_type": "code",
   "execution_count": 8,
   "id": "9d0d68e3-8f4f-43ba-ab06-c3d7cc9e3333",
   "metadata": {},
   "outputs": [],
   "source": [
    "from functools import reduce"
   ]
  },
  {
   "cell_type": "code",
   "execution_count": 11,
   "id": "93218d8f-ab35-4f63-af18-6028fbd007e7",
   "metadata": {},
   "outputs": [
    {
     "data": {
      "text/plain": [
       "15511210043330985984000000"
      ]
     },
     "execution_count": 11,
     "metadata": {},
     "output_type": "execute_result"
    }
   ],
   "source": [
    "reduce(lambda x,y: x*y ,l)"
   ]
  },
  {
   "cell_type": "markdown",
   "id": "3370268f-9dbb-4c12-b01a-14e753891e6d",
   "metadata": {},
   "source": [
    "# ANS 5"
   ]
  },
  {
   "cell_type": "code",
   "execution_count": 13,
   "id": "37fcaa1a-bb8d-44f0-acf0-4f866093b423",
   "metadata": {},
   "outputs": [],
   "source": [
    "l = [ 2,3,6,9,27,60,90,120,55,46]"
   ]
  },
  {
   "cell_type": "code",
   "execution_count": 17,
   "id": "69c97010-ea84-417e-8a09-a31d0585611d",
   "metadata": {},
   "outputs": [
    {
     "data": {
      "text/plain": [
       "[2, 3, 6, 9, 27, 60, 90, 120, 46]"
      ]
     },
     "execution_count": 17,
     "metadata": {},
     "output_type": "execute_result"
    }
   ],
   "source": [
    "list(filter(lambda x: x%2==0 or x%3==0 , l))"
   ]
  },
  {
   "cell_type": "markdown",
   "id": "a2adf418-9e26-408e-9496-51be78bf9a51",
   "metadata": {},
   "source": [
    "## ANS 6"
   ]
  },
  {
   "cell_type": "code",
   "execution_count": 4,
   "id": "4bb2649a-6958-4cc0-9b60-89b9158bef34",
   "metadata": {},
   "outputs": [],
   "source": [
    "a = [ 'python' , 'php','aba', 'radar' , 'level']"
   ]
  },
  {
   "cell_type": "code",
   "execution_count": 5,
   "id": "b9ed37f1-c12a-4ec7-8c43-792180b9ec09",
   "metadata": {},
   "outputs": [
    {
     "data": {
      "text/plain": [
       "['php', 'aba', 'radar', 'level']"
      ]
     },
     "execution_count": 5,
     "metadata": {},
     "output_type": "execute_result"
    }
   ],
   "source": [
    "list(filter(lambda x: x == x[::-1] ,a))"
   ]
  },
  {
   "cell_type": "code",
   "execution_count": null,
   "id": "f262b40c-0b50-4419-b982-d6a5dcb63207",
   "metadata": {},
   "outputs": [],
   "source": []
  }
 ],
 "metadata": {
  "kernelspec": {
   "display_name": "Python 3 (ipykernel)",
   "language": "python",
   "name": "python3"
  },
  "language_info": {
   "codemirror_mode": {
    "name": "ipython",
    "version": 3
   },
   "file_extension": ".py",
   "mimetype": "text/x-python",
   "name": "python",
   "nbconvert_exporter": "python",
   "pygments_lexer": "ipython3",
   "version": "3.10.8"
  }
 },
 "nbformat": 4,
 "nbformat_minor": 5
}
